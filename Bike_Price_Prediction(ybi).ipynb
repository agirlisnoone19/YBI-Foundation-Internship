{
  "nbformat": 4,
  "nbformat_minor": 0,
  "metadata": {
    "colab": {
      "name": "Bike Price Prediction(ybi).ipynb",
      "provenance": [],
      "collapsed_sections": []
    },
    "kernelspec": {
      "name": "python3",
      "display_name": "Python 3"
    },
    "language_info": {
      "name": "python"
    }
  },
  "cells": [
    {
      "cell_type": "markdown",
      "source": [
        "# **Bike Price Prediction Using Linear Regression**"
      ],
      "metadata": {
        "id": "y5oXqDUgKHJc"
      }
    },
    {
      "cell_type": "markdown",
      "source": [
        "# **Import Library**"
      ],
      "metadata": {
        "id": "IE0B4dBJJ91L"
      }
    },
    {
      "cell_type": "code",
      "execution_count": null,
      "metadata": {
        "id": "chXgliSRJ40v"
      },
      "outputs": [],
      "source": [
        "import numpy as np\n",
        "import pandas as pd"
      ]
    },
    {
      "cell_type": "markdown",
      "source": [
        "# **Import Dataset**"
      ],
      "metadata": {
        "id": "z0UmJQnKKOQ2"
      }
    },
    {
      "cell_type": "code",
      "source": [
        "df=pd.read_csv(\"https://github.com/YBI-Foundation/Dataset/raw/main/Bike%20Prices.csv\")\n"
      ],
      "metadata": {
        "id": "i9xeE1-7KF44"
      },
      "execution_count": null,
      "outputs": []
    },
    {
      "cell_type": "markdown",
      "source": [
        "# **Get First five rows**"
      ],
      "metadata": {
        "id": "J53CV6dtKY9o"
      }
    },
    {
      "cell_type": "code",
      "source": [
        "df.head()\n"
      ],
      "metadata": {
        "colab": {
          "base_uri": "https://localhost:8080/",
          "height": 206
        },
        "id": "7eoHWZJFKVxj",
        "outputId": "843c54ef-2d3f-42b8-a7f8-15cec6df8e2a"
      },
      "execution_count": null,
      "outputs": [
        {
          "output_type": "execute_result",
          "data": {
            "text/plain": [
              "   Brand               Model  Selling_Price  Year Seller_Type      Owner  \\\n",
              "0    TVS          TVS XL 100          30000  2017  Individual  1st owner   \n",
              "1  Bajaj       Bajaj  ct 100          18000  2017  Individual  1st owner   \n",
              "2     Yo            Yo Style          20000  2011  Individual  1st owner   \n",
              "3  Bajaj  Bajaj Discover 100          25000  2010  Individual  1st owner   \n",
              "4  Bajaj  Bajaj Discover 100          24999  2012  Individual  2nd owner   \n",
              "\n",
              "   KM_Driven  Ex_Showroom_Price  \n",
              "0       8000            30490.0  \n",
              "1      35000            32000.0  \n",
              "2      10000            37675.0  \n",
              "3      43000            42859.0  \n",
              "4      35000            42859.0  "
            ],
            "text/html": [
              "\n",
              "  <div id=\"df-404d9095-6712-477c-a73e-23f3296b376b\">\n",
              "    <div class=\"colab-df-container\">\n",
              "      <div>\n",
              "<style scoped>\n",
              "    .dataframe tbody tr th:only-of-type {\n",
              "        vertical-align: middle;\n",
              "    }\n",
              "\n",
              "    .dataframe tbody tr th {\n",
              "        vertical-align: top;\n",
              "    }\n",
              "\n",
              "    .dataframe thead th {\n",
              "        text-align: right;\n",
              "    }\n",
              "</style>\n",
              "<table border=\"1\" class=\"dataframe\">\n",
              "  <thead>\n",
              "    <tr style=\"text-align: right;\">\n",
              "      <th></th>\n",
              "      <th>Brand</th>\n",
              "      <th>Model</th>\n",
              "      <th>Selling_Price</th>\n",
              "      <th>Year</th>\n",
              "      <th>Seller_Type</th>\n",
              "      <th>Owner</th>\n",
              "      <th>KM_Driven</th>\n",
              "      <th>Ex_Showroom_Price</th>\n",
              "    </tr>\n",
              "  </thead>\n",
              "  <tbody>\n",
              "    <tr>\n",
              "      <th>0</th>\n",
              "      <td>TVS</td>\n",
              "      <td>TVS XL 100</td>\n",
              "      <td>30000</td>\n",
              "      <td>2017</td>\n",
              "      <td>Individual</td>\n",
              "      <td>1st owner</td>\n",
              "      <td>8000</td>\n",
              "      <td>30490.0</td>\n",
              "    </tr>\n",
              "    <tr>\n",
              "      <th>1</th>\n",
              "      <td>Bajaj</td>\n",
              "      <td>Bajaj  ct 100</td>\n",
              "      <td>18000</td>\n",
              "      <td>2017</td>\n",
              "      <td>Individual</td>\n",
              "      <td>1st owner</td>\n",
              "      <td>35000</td>\n",
              "      <td>32000.0</td>\n",
              "    </tr>\n",
              "    <tr>\n",
              "      <th>2</th>\n",
              "      <td>Yo</td>\n",
              "      <td>Yo Style</td>\n",
              "      <td>20000</td>\n",
              "      <td>2011</td>\n",
              "      <td>Individual</td>\n",
              "      <td>1st owner</td>\n",
              "      <td>10000</td>\n",
              "      <td>37675.0</td>\n",
              "    </tr>\n",
              "    <tr>\n",
              "      <th>3</th>\n",
              "      <td>Bajaj</td>\n",
              "      <td>Bajaj Discover 100</td>\n",
              "      <td>25000</td>\n",
              "      <td>2010</td>\n",
              "      <td>Individual</td>\n",
              "      <td>1st owner</td>\n",
              "      <td>43000</td>\n",
              "      <td>42859.0</td>\n",
              "    </tr>\n",
              "    <tr>\n",
              "      <th>4</th>\n",
              "      <td>Bajaj</td>\n",
              "      <td>Bajaj Discover 100</td>\n",
              "      <td>24999</td>\n",
              "      <td>2012</td>\n",
              "      <td>Individual</td>\n",
              "      <td>2nd owner</td>\n",
              "      <td>35000</td>\n",
              "      <td>42859.0</td>\n",
              "    </tr>\n",
              "  </tbody>\n",
              "</table>\n",
              "</div>\n",
              "      <button class=\"colab-df-convert\" onclick=\"convertToInteractive('df-404d9095-6712-477c-a73e-23f3296b376b')\"\n",
              "              title=\"Convert this dataframe to an interactive table.\"\n",
              "              style=\"display:none;\">\n",
              "        \n",
              "  <svg xmlns=\"http://www.w3.org/2000/svg\" height=\"24px\"viewBox=\"0 0 24 24\"\n",
              "       width=\"24px\">\n",
              "    <path d=\"M0 0h24v24H0V0z\" fill=\"none\"/>\n",
              "    <path d=\"M18.56 5.44l.94 2.06.94-2.06 2.06-.94-2.06-.94-.94-2.06-.94 2.06-2.06.94zm-11 1L8.5 8.5l.94-2.06 2.06-.94-2.06-.94L8.5 2.5l-.94 2.06-2.06.94zm10 10l.94 2.06.94-2.06 2.06-.94-2.06-.94-.94-2.06-.94 2.06-2.06.94z\"/><path d=\"M17.41 7.96l-1.37-1.37c-.4-.4-.92-.59-1.43-.59-.52 0-1.04.2-1.43.59L10.3 9.45l-7.72 7.72c-.78.78-.78 2.05 0 2.83L4 21.41c.39.39.9.59 1.41.59.51 0 1.02-.2 1.41-.59l7.78-7.78 2.81-2.81c.8-.78.8-2.07 0-2.86zM5.41 20L4 18.59l7.72-7.72 1.47 1.35L5.41 20z\"/>\n",
              "  </svg>\n",
              "      </button>\n",
              "      \n",
              "  <style>\n",
              "    .colab-df-container {\n",
              "      display:flex;\n",
              "      flex-wrap:wrap;\n",
              "      gap: 12px;\n",
              "    }\n",
              "\n",
              "    .colab-df-convert {\n",
              "      background-color: #E8F0FE;\n",
              "      border: none;\n",
              "      border-radius: 50%;\n",
              "      cursor: pointer;\n",
              "      display: none;\n",
              "      fill: #1967D2;\n",
              "      height: 32px;\n",
              "      padding: 0 0 0 0;\n",
              "      width: 32px;\n",
              "    }\n",
              "\n",
              "    .colab-df-convert:hover {\n",
              "      background-color: #E2EBFA;\n",
              "      box-shadow: 0px 1px 2px rgba(60, 64, 67, 0.3), 0px 1px 3px 1px rgba(60, 64, 67, 0.15);\n",
              "      fill: #174EA6;\n",
              "    }\n",
              "\n",
              "    [theme=dark] .colab-df-convert {\n",
              "      background-color: #3B4455;\n",
              "      fill: #D2E3FC;\n",
              "    }\n",
              "\n",
              "    [theme=dark] .colab-df-convert:hover {\n",
              "      background-color: #434B5C;\n",
              "      box-shadow: 0px 1px 3px 1px rgba(0, 0, 0, 0.15);\n",
              "      filter: drop-shadow(0px 1px 2px rgba(0, 0, 0, 0.3));\n",
              "      fill: #FFFFFF;\n",
              "    }\n",
              "  </style>\n",
              "\n",
              "      <script>\n",
              "        const buttonEl =\n",
              "          document.querySelector('#df-404d9095-6712-477c-a73e-23f3296b376b button.colab-df-convert');\n",
              "        buttonEl.style.display =\n",
              "          google.colab.kernel.accessAllowed ? 'block' : 'none';\n",
              "\n",
              "        async function convertToInteractive(key) {\n",
              "          const element = document.querySelector('#df-404d9095-6712-477c-a73e-23f3296b376b');\n",
              "          const dataTable =\n",
              "            await google.colab.kernel.invokeFunction('convertToInteractive',\n",
              "                                                     [key], {});\n",
              "          if (!dataTable) return;\n",
              "\n",
              "          const docLinkHtml = 'Like what you see? Visit the ' +\n",
              "            '<a target=\"_blank\" href=https://colab.research.google.com/notebooks/data_table.ipynb>data table notebook</a>'\n",
              "            + ' to learn more about interactive tables.';\n",
              "          element.innerHTML = '';\n",
              "          dataTable['output_type'] = 'display_data';\n",
              "          await google.colab.output.renderOutput(dataTable, element);\n",
              "          const docLink = document.createElement('div');\n",
              "          docLink.innerHTML = docLinkHtml;\n",
              "          element.appendChild(docLink);\n",
              "        }\n",
              "      </script>\n",
              "    </div>\n",
              "  </div>\n",
              "  "
            ]
          },
          "metadata": {},
          "execution_count": 3
        }
      ]
    },
    {
      "cell_type": "markdown",
      "source": [
        "# **Get Information of Dataframe**"
      ],
      "metadata": {
        "id": "5f00WofmKhFz"
      }
    },
    {
      "cell_type": "code",
      "source": [
        "df.info()\n"
      ],
      "metadata": {
        "colab": {
          "base_uri": "https://localhost:8080/"
        },
        "id": "GaJpdNZFKVuN",
        "outputId": "fce274b2-1ce9-4cdf-8baf-dc66fcab9ea2"
      },
      "execution_count": null,
      "outputs": [
        {
          "output_type": "stream",
          "name": "stdout",
          "text": [
            "<class 'pandas.core.frame.DataFrame'>\n",
            "RangeIndex: 1061 entries, 0 to 1060\n",
            "Data columns (total 8 columns):\n",
            " #   Column             Non-Null Count  Dtype  \n",
            "---  ------             --------------  -----  \n",
            " 0   Brand              1061 non-null   object \n",
            " 1   Model              1061 non-null   object \n",
            " 2   Selling_Price      1061 non-null   int64  \n",
            " 3   Year               1061 non-null   int64  \n",
            " 4   Seller_Type        1061 non-null   object \n",
            " 5   Owner              1061 non-null   object \n",
            " 6   KM_Driven          1061 non-null   int64  \n",
            " 7   Ex_Showroom_Price  626 non-null    float64\n",
            "dtypes: float64(1), int64(3), object(4)\n",
            "memory usage: 66.4+ KB\n"
          ]
        }
      ]
    },
    {
      "cell_type": "markdown",
      "source": [
        "# **Get Missing Values drop**"
      ],
      "metadata": {
        "id": "-0gM1vdkKm3P"
      }
    },
    {
      "cell_type": "code",
      "source": [
        "df=df.dropna()\n"
      ],
      "metadata": {
        "id": "tm4G0b7PKVr5"
      },
      "execution_count": null,
      "outputs": []
    },
    {
      "cell_type": "markdown",
      "source": [
        "# **Get Summary Statistics**"
      ],
      "metadata": {
        "id": "FofBEYd4KsOK"
      }
    },
    {
      "cell_type": "code",
      "source": [
        "df.describe()\n"
      ],
      "metadata": {
        "colab": {
          "base_uri": "https://localhost:8080/",
          "height": 300
        },
        "id": "GPXskY32KVps",
        "outputId": "b1cc27c6-2048-49c1-d937-283f25857c0a"
      },
      "execution_count": null,
      "outputs": [
        {
          "output_type": "execute_result",
          "data": {
            "text/plain": [
              "       Selling_Price         Year      KM_Driven  Ex_Showroom_Price\n",
              "count     626.000000   626.000000     626.000000       6.260000e+02\n",
              "mean    59445.164537  2014.800319   32671.576677       8.795871e+04\n",
              "std     59904.350888     3.018885   45479.661039       7.749659e+04\n",
              "min      6000.000000  2001.000000     380.000000       3.049000e+04\n",
              "25%     30000.000000  2013.000000   13031.250000       5.485200e+04\n",
              "50%     45000.000000  2015.000000   25000.000000       7.275250e+04\n",
              "75%     65000.000000  2017.000000   40000.000000       8.703150e+04\n",
              "max    760000.000000  2020.000000  585659.000000       1.278000e+06"
            ],
            "text/html": [
              "\n",
              "  <div id=\"df-ba9f4ee5-b114-4d3e-9f8f-147d39f37677\">\n",
              "    <div class=\"colab-df-container\">\n",
              "      <div>\n",
              "<style scoped>\n",
              "    .dataframe tbody tr th:only-of-type {\n",
              "        vertical-align: middle;\n",
              "    }\n",
              "\n",
              "    .dataframe tbody tr th {\n",
              "        vertical-align: top;\n",
              "    }\n",
              "\n",
              "    .dataframe thead th {\n",
              "        text-align: right;\n",
              "    }\n",
              "</style>\n",
              "<table border=\"1\" class=\"dataframe\">\n",
              "  <thead>\n",
              "    <tr style=\"text-align: right;\">\n",
              "      <th></th>\n",
              "      <th>Selling_Price</th>\n",
              "      <th>Year</th>\n",
              "      <th>KM_Driven</th>\n",
              "      <th>Ex_Showroom_Price</th>\n",
              "    </tr>\n",
              "  </thead>\n",
              "  <tbody>\n",
              "    <tr>\n",
              "      <th>count</th>\n",
              "      <td>626.000000</td>\n",
              "      <td>626.000000</td>\n",
              "      <td>626.000000</td>\n",
              "      <td>6.260000e+02</td>\n",
              "    </tr>\n",
              "    <tr>\n",
              "      <th>mean</th>\n",
              "      <td>59445.164537</td>\n",
              "      <td>2014.800319</td>\n",
              "      <td>32671.576677</td>\n",
              "      <td>8.795871e+04</td>\n",
              "    </tr>\n",
              "    <tr>\n",
              "      <th>std</th>\n",
              "      <td>59904.350888</td>\n",
              "      <td>3.018885</td>\n",
              "      <td>45479.661039</td>\n",
              "      <td>7.749659e+04</td>\n",
              "    </tr>\n",
              "    <tr>\n",
              "      <th>min</th>\n",
              "      <td>6000.000000</td>\n",
              "      <td>2001.000000</td>\n",
              "      <td>380.000000</td>\n",
              "      <td>3.049000e+04</td>\n",
              "    </tr>\n",
              "    <tr>\n",
              "      <th>25%</th>\n",
              "      <td>30000.000000</td>\n",
              "      <td>2013.000000</td>\n",
              "      <td>13031.250000</td>\n",
              "      <td>5.485200e+04</td>\n",
              "    </tr>\n",
              "    <tr>\n",
              "      <th>50%</th>\n",
              "      <td>45000.000000</td>\n",
              "      <td>2015.000000</td>\n",
              "      <td>25000.000000</td>\n",
              "      <td>7.275250e+04</td>\n",
              "    </tr>\n",
              "    <tr>\n",
              "      <th>75%</th>\n",
              "      <td>65000.000000</td>\n",
              "      <td>2017.000000</td>\n",
              "      <td>40000.000000</td>\n",
              "      <td>8.703150e+04</td>\n",
              "    </tr>\n",
              "    <tr>\n",
              "      <th>max</th>\n",
              "      <td>760000.000000</td>\n",
              "      <td>2020.000000</td>\n",
              "      <td>585659.000000</td>\n",
              "      <td>1.278000e+06</td>\n",
              "    </tr>\n",
              "  </tbody>\n",
              "</table>\n",
              "</div>\n",
              "      <button class=\"colab-df-convert\" onclick=\"convertToInteractive('df-ba9f4ee5-b114-4d3e-9f8f-147d39f37677')\"\n",
              "              title=\"Convert this dataframe to an interactive table.\"\n",
              "              style=\"display:none;\">\n",
              "        \n",
              "  <svg xmlns=\"http://www.w3.org/2000/svg\" height=\"24px\"viewBox=\"0 0 24 24\"\n",
              "       width=\"24px\">\n",
              "    <path d=\"M0 0h24v24H0V0z\" fill=\"none\"/>\n",
              "    <path d=\"M18.56 5.44l.94 2.06.94-2.06 2.06-.94-2.06-.94-.94-2.06-.94 2.06-2.06.94zm-11 1L8.5 8.5l.94-2.06 2.06-.94-2.06-.94L8.5 2.5l-.94 2.06-2.06.94zm10 10l.94 2.06.94-2.06 2.06-.94-2.06-.94-.94-2.06-.94 2.06-2.06.94z\"/><path d=\"M17.41 7.96l-1.37-1.37c-.4-.4-.92-.59-1.43-.59-.52 0-1.04.2-1.43.59L10.3 9.45l-7.72 7.72c-.78.78-.78 2.05 0 2.83L4 21.41c.39.39.9.59 1.41.59.51 0 1.02-.2 1.41-.59l7.78-7.78 2.81-2.81c.8-.78.8-2.07 0-2.86zM5.41 20L4 18.59l7.72-7.72 1.47 1.35L5.41 20z\"/>\n",
              "  </svg>\n",
              "      </button>\n",
              "      \n",
              "  <style>\n",
              "    .colab-df-container {\n",
              "      display:flex;\n",
              "      flex-wrap:wrap;\n",
              "      gap: 12px;\n",
              "    }\n",
              "\n",
              "    .colab-df-convert {\n",
              "      background-color: #E8F0FE;\n",
              "      border: none;\n",
              "      border-radius: 50%;\n",
              "      cursor: pointer;\n",
              "      display: none;\n",
              "      fill: #1967D2;\n",
              "      height: 32px;\n",
              "      padding: 0 0 0 0;\n",
              "      width: 32px;\n",
              "    }\n",
              "\n",
              "    .colab-df-convert:hover {\n",
              "      background-color: #E2EBFA;\n",
              "      box-shadow: 0px 1px 2px rgba(60, 64, 67, 0.3), 0px 1px 3px 1px rgba(60, 64, 67, 0.15);\n",
              "      fill: #174EA6;\n",
              "    }\n",
              "\n",
              "    [theme=dark] .colab-df-convert {\n",
              "      background-color: #3B4455;\n",
              "      fill: #D2E3FC;\n",
              "    }\n",
              "\n",
              "    [theme=dark] .colab-df-convert:hover {\n",
              "      background-color: #434B5C;\n",
              "      box-shadow: 0px 1px 3px 1px rgba(0, 0, 0, 0.15);\n",
              "      filter: drop-shadow(0px 1px 2px rgba(0, 0, 0, 0.3));\n",
              "      fill: #FFFFFF;\n",
              "    }\n",
              "  </style>\n",
              "\n",
              "      <script>\n",
              "        const buttonEl =\n",
              "          document.querySelector('#df-ba9f4ee5-b114-4d3e-9f8f-147d39f37677 button.colab-df-convert');\n",
              "        buttonEl.style.display =\n",
              "          google.colab.kernel.accessAllowed ? 'block' : 'none';\n",
              "\n",
              "        async function convertToInteractive(key) {\n",
              "          const element = document.querySelector('#df-ba9f4ee5-b114-4d3e-9f8f-147d39f37677');\n",
              "          const dataTable =\n",
              "            await google.colab.kernel.invokeFunction('convertToInteractive',\n",
              "                                                     [key], {});\n",
              "          if (!dataTable) return;\n",
              "\n",
              "          const docLinkHtml = 'Like what you see? Visit the ' +\n",
              "            '<a target=\"_blank\" href=https://colab.research.google.com/notebooks/data_table.ipynb>data table notebook</a>'\n",
              "            + ' to learn more about interactive tables.';\n",
              "          element.innerHTML = '';\n",
              "          dataTable['output_type'] = 'display_data';\n",
              "          await google.colab.output.renderOutput(dataTable, element);\n",
              "          const docLink = document.createElement('div');\n",
              "          docLink.innerHTML = docLinkHtml;\n",
              "          element.appendChild(docLink);\n",
              "        }\n",
              "      </script>\n",
              "    </div>\n",
              "  </div>\n",
              "  "
            ]
          },
          "metadata": {},
          "execution_count": 6
        }
      ]
    },
    {
      "cell_type": "markdown",
      "source": [
        "# **Get Categories and counts of categorical variables**"
      ],
      "metadata": {
        "id": "XcdoWh_dKzIe"
      }
    },
    {
      "cell_type": "code",
      "source": [
        "df[['Brand']].value_counts()\n"
      ],
      "metadata": {
        "colab": {
          "base_uri": "https://localhost:8080/"
        },
        "id": "yQIUAZeNKVnY",
        "outputId": "4406727a-154c-49ba-98eb-23a08b449e4e"
      },
      "execution_count": null,
      "outputs": [
        {
          "output_type": "execute_result",
          "data": {
            "text/plain": [
              "Brand   \n",
              "Honda       170\n",
              "Bajaj       143\n",
              "Hero        108\n",
              "Yamaha       94\n",
              "Royal        40\n",
              "TVS          23\n",
              "Suzuki       18\n",
              "KTM           6\n",
              "Mahindra      6\n",
              "Kawasaki      4\n",
              "UM            3\n",
              "Activa        3\n",
              "Harley        2\n",
              "Vespa         2\n",
              "BMW           1\n",
              "Hyosung       1\n",
              "Benelli       1\n",
              "Yo            1\n",
              "dtype: int64"
            ]
          },
          "metadata": {},
          "execution_count": 7
        }
      ]
    },
    {
      "cell_type": "code",
      "source": [
        "df[['Model']].value_counts()\n"
      ],
      "metadata": {
        "colab": {
          "base_uri": "https://localhost:8080/"
        },
        "id": "Mwys8PmCKVk9",
        "outputId": "b146093e-5998-483d-a602-5e5bdbc1c58b"
      },
      "execution_count": null,
      "outputs": [
        {
          "output_type": "execute_result",
          "data": {
            "text/plain": [
              "Model                                     \n",
              "Honda Activa [2000-2015]                      23\n",
              "Honda CB Hornet 160R                          22\n",
              "Bajaj Pulsar 180                              20\n",
              "Yamaha FZ S V 2.0                             16\n",
              "Bajaj Discover 125                            16\n",
              "                                              ..\n",
              "Royal Enfield Thunderbird 500                  1\n",
              "Royal Enfield Continental GT [2013 - 2018]     1\n",
              "Royal Enfield Classic Stealth Black            1\n",
              "Royal Enfield Classic Squadron Blue            1\n",
              "Yo Style                                       1\n",
              "Length: 183, dtype: int64"
            ]
          },
          "metadata": {},
          "execution_count": 8
        }
      ]
    },
    {
      "cell_type": "code",
      "source": [
        "df[['Seller_Type']].value_counts()\n"
      ],
      "metadata": {
        "colab": {
          "base_uri": "https://localhost:8080/"
        },
        "id": "3I1RwchhKVih",
        "outputId": "9b2ab21d-480e-4b02-d983-9f1a58ad1f71"
      },
      "execution_count": null,
      "outputs": [
        {
          "output_type": "execute_result",
          "data": {
            "text/plain": [
              "Seller_Type\n",
              "Individual     623\n",
              "Dealer           3\n",
              "dtype: int64"
            ]
          },
          "metadata": {},
          "execution_count": 9
        }
      ]
    },
    {
      "cell_type": "code",
      "source": [
        "df[['Owner']].value_counts()\n"
      ],
      "metadata": {
        "colab": {
          "base_uri": "https://localhost:8080/"
        },
        "id": "tsEOg1r2KVgO",
        "outputId": "92f05783-3638-4038-ace6-069bd0f88609"
      },
      "execution_count": null,
      "outputs": [
        {
          "output_type": "execute_result",
          "data": {
            "text/plain": [
              "Owner    \n",
              "1st owner    556\n",
              "2nd owner     66\n",
              "3rd owner      3\n",
              "4th owner      1\n",
              "dtype: int64"
            ]
          },
          "metadata": {},
          "execution_count": 10
        }
      ]
    },
    {
      "cell_type": "markdown",
      "source": [
        "# **Get Column names**"
      ],
      "metadata": {
        "id": "ByzQgkm1K-xg"
      }
    },
    {
      "cell_type": "code",
      "source": [
        "df.columns\n"
      ],
      "metadata": {
        "colab": {
          "base_uri": "https://localhost:8080/"
        },
        "id": "d-YxIDReKVd8",
        "outputId": "5d2390f9-4157-4c7e-b22c-8e0ca3d5c74a"
      },
      "execution_count": null,
      "outputs": [
        {
          "output_type": "execute_result",
          "data": {
            "text/plain": [
              "Index(['Brand', 'Model', 'Selling_Price', 'Year', 'Seller_Type', 'Owner',\n",
              "       'KM_Driven', 'Ex_Showroom_Price'],\n",
              "      dtype='object')"
            ]
          },
          "metadata": {},
          "execution_count": 11
        }
      ]
    },
    {
      "cell_type": "markdown",
      "source": [
        "# **Get Shape of Dataframe**"
      ],
      "metadata": {
        "id": "m6GQWwpyLDv2"
      }
    },
    {
      "cell_type": "code",
      "source": [
        "df.shape\n"
      ],
      "metadata": {
        "colab": {
          "base_uri": "https://localhost:8080/"
        },
        "id": "OAyAk644KVbm",
        "outputId": "323a285a-47d2-4143-c1f5-7bb7ecd68a37"
      },
      "execution_count": null,
      "outputs": [
        {
          "output_type": "execute_result",
          "data": {
            "text/plain": [
              "(626, 8)"
            ]
          },
          "metadata": {},
          "execution_count": 12
        }
      ]
    },
    {
      "cell_type": "markdown",
      "source": [
        "# **Get Encoding of Categorical Features**"
      ],
      "metadata": {
        "id": "pNxFdHoxLJpH"
      }
    },
    {
      "cell_type": "code",
      "source": [
        "df.replace({'Seller_Type':{'Individual':0,'Dealer':1}},inplace=True)\n"
      ],
      "metadata": {
        "id": "cIX9t3Q2KVZK"
      },
      "execution_count": null,
      "outputs": []
    },
    {
      "cell_type": "code",
      "source": [
        "df.replace({'Owner':{'1st owner':0,'2nd owner':1,'3rd owner':2,'4th owner':3}},inplace=True)\n"
      ],
      "metadata": {
        "id": "YcXD9bN2KVWv"
      },
      "execution_count": null,
      "outputs": []
    },
    {
      "cell_type": "markdown",
      "source": [
        "# **Define y and X**"
      ],
      "metadata": {
        "id": "BCf5XPWmLScD"
      }
    },
    {
      "cell_type": "code",
      "source": [
        "y=df['Selling_Price']\n"
      ],
      "metadata": {
        "id": "8lKR8Qj3LSPM"
      },
      "execution_count": null,
      "outputs": []
    },
    {
      "cell_type": "code",
      "source": [
        "y.shape\n"
      ],
      "metadata": {
        "colab": {
          "base_uri": "https://localhost:8080/"
        },
        "id": "i8DhJBlJLSLn",
        "outputId": "b5c1f1a2-a62e-40e6-dd54-2f1b7ce33b6a"
      },
      "execution_count": null,
      "outputs": [
        {
          "output_type": "execute_result",
          "data": {
            "text/plain": [
              "(626,)"
            ]
          },
          "metadata": {},
          "execution_count": 16
        }
      ]
    },
    {
      "cell_type": "code",
      "source": [
        "y\n"
      ],
      "metadata": {
        "colab": {
          "base_uri": "https://localhost:8080/"
        },
        "id": "I6P8PH3bLSJM",
        "outputId": "4897ba94-9efe-41a4-fa85-98fcb5ba4a65"
      },
      "execution_count": null,
      "outputs": [
        {
          "output_type": "execute_result",
          "data": {
            "text/plain": [
              "0       30000\n",
              "1       18000\n",
              "2       20000\n",
              "3       25000\n",
              "4       24999\n",
              "        ...  \n",
              "621    330000\n",
              "622    300000\n",
              "623    425000\n",
              "624    760000\n",
              "625    750000\n",
              "Name: Selling_Price, Length: 626, dtype: int64"
            ]
          },
          "metadata": {},
          "execution_count": 17
        }
      ]
    },
    {
      "cell_type": "code",
      "source": [
        "X=df[['Year','Seller_Type','Owner','KM_Driven','Ex_Showroom_Price']]\n"
      ],
      "metadata": {
        "id": "M3RN-bQaLSHG"
      },
      "execution_count": null,
      "outputs": []
    },
    {
      "cell_type": "code",
      "source": [
        "X.shape\n"
      ],
      "metadata": {
        "colab": {
          "base_uri": "https://localhost:8080/"
        },
        "id": "B7zgUP98LSEz",
        "outputId": "7746f5f8-4330-4fa0-fe52-ac0535d105af"
      },
      "execution_count": null,
      "outputs": [
        {
          "output_type": "execute_result",
          "data": {
            "text/plain": [
              "(626, 5)"
            ]
          },
          "metadata": {},
          "execution_count": 20
        }
      ]
    },
    {
      "cell_type": "code",
      "source": [
        "X\n"
      ],
      "metadata": {
        "colab": {
          "base_uri": "https://localhost:8080/",
          "height": 424
        },
        "id": "6eq7seC4LSCg",
        "outputId": "0ab1d717-9d06-4797-f9f1-e092e0e785db"
      },
      "execution_count": null,
      "outputs": [
        {
          "output_type": "execute_result",
          "data": {
            "text/plain": [
              "     Year  Seller_Type  Owner  KM_Driven  Ex_Showroom_Price\n",
              "0    2017            0      0       8000            30490.0\n",
              "1    2017            0      0      35000            32000.0\n",
              "2    2011            0      0      10000            37675.0\n",
              "3    2010            0      0      43000            42859.0\n",
              "4    2012            0      1      35000            42859.0\n",
              "..    ...          ...    ...        ...                ...\n",
              "621  2014            0      3       6500           534000.0\n",
              "622  2011            0      0      12000           589000.0\n",
              "623  2017            0      1      13600           599000.0\n",
              "624  2019            0      0       2800           752020.0\n",
              "625  2013            0      1      12000          1278000.0\n",
              "\n",
              "[626 rows x 5 columns]"
            ],
            "text/html": [
              "\n",
              "  <div id=\"df-3625d098-9c95-4368-99d6-4b56f8a5bcf4\">\n",
              "    <div class=\"colab-df-container\">\n",
              "      <div>\n",
              "<style scoped>\n",
              "    .dataframe tbody tr th:only-of-type {\n",
              "        vertical-align: middle;\n",
              "    }\n",
              "\n",
              "    .dataframe tbody tr th {\n",
              "        vertical-align: top;\n",
              "    }\n",
              "\n",
              "    .dataframe thead th {\n",
              "        text-align: right;\n",
              "    }\n",
              "</style>\n",
              "<table border=\"1\" class=\"dataframe\">\n",
              "  <thead>\n",
              "    <tr style=\"text-align: right;\">\n",
              "      <th></th>\n",
              "      <th>Year</th>\n",
              "      <th>Seller_Type</th>\n",
              "      <th>Owner</th>\n",
              "      <th>KM_Driven</th>\n",
              "      <th>Ex_Showroom_Price</th>\n",
              "    </tr>\n",
              "  </thead>\n",
              "  <tbody>\n",
              "    <tr>\n",
              "      <th>0</th>\n",
              "      <td>2017</td>\n",
              "      <td>0</td>\n",
              "      <td>0</td>\n",
              "      <td>8000</td>\n",
              "      <td>30490.0</td>\n",
              "    </tr>\n",
              "    <tr>\n",
              "      <th>1</th>\n",
              "      <td>2017</td>\n",
              "      <td>0</td>\n",
              "      <td>0</td>\n",
              "      <td>35000</td>\n",
              "      <td>32000.0</td>\n",
              "    </tr>\n",
              "    <tr>\n",
              "      <th>2</th>\n",
              "      <td>2011</td>\n",
              "      <td>0</td>\n",
              "      <td>0</td>\n",
              "      <td>10000</td>\n",
              "      <td>37675.0</td>\n",
              "    </tr>\n",
              "    <tr>\n",
              "      <th>3</th>\n",
              "      <td>2010</td>\n",
              "      <td>0</td>\n",
              "      <td>0</td>\n",
              "      <td>43000</td>\n",
              "      <td>42859.0</td>\n",
              "    </tr>\n",
              "    <tr>\n",
              "      <th>4</th>\n",
              "      <td>2012</td>\n",
              "      <td>0</td>\n",
              "      <td>1</td>\n",
              "      <td>35000</td>\n",
              "      <td>42859.0</td>\n",
              "    </tr>\n",
              "    <tr>\n",
              "      <th>...</th>\n",
              "      <td>...</td>\n",
              "      <td>...</td>\n",
              "      <td>...</td>\n",
              "      <td>...</td>\n",
              "      <td>...</td>\n",
              "    </tr>\n",
              "    <tr>\n",
              "      <th>621</th>\n",
              "      <td>2014</td>\n",
              "      <td>0</td>\n",
              "      <td>3</td>\n",
              "      <td>6500</td>\n",
              "      <td>534000.0</td>\n",
              "    </tr>\n",
              "    <tr>\n",
              "      <th>622</th>\n",
              "      <td>2011</td>\n",
              "      <td>0</td>\n",
              "      <td>0</td>\n",
              "      <td>12000</td>\n",
              "      <td>589000.0</td>\n",
              "    </tr>\n",
              "    <tr>\n",
              "      <th>623</th>\n",
              "      <td>2017</td>\n",
              "      <td>0</td>\n",
              "      <td>1</td>\n",
              "      <td>13600</td>\n",
              "      <td>599000.0</td>\n",
              "    </tr>\n",
              "    <tr>\n",
              "      <th>624</th>\n",
              "      <td>2019</td>\n",
              "      <td>0</td>\n",
              "      <td>0</td>\n",
              "      <td>2800</td>\n",
              "      <td>752020.0</td>\n",
              "    </tr>\n",
              "    <tr>\n",
              "      <th>625</th>\n",
              "      <td>2013</td>\n",
              "      <td>0</td>\n",
              "      <td>1</td>\n",
              "      <td>12000</td>\n",
              "      <td>1278000.0</td>\n",
              "    </tr>\n",
              "  </tbody>\n",
              "</table>\n",
              "<p>626 rows × 5 columns</p>\n",
              "</div>\n",
              "      <button class=\"colab-df-convert\" onclick=\"convertToInteractive('df-3625d098-9c95-4368-99d6-4b56f8a5bcf4')\"\n",
              "              title=\"Convert this dataframe to an interactive table.\"\n",
              "              style=\"display:none;\">\n",
              "        \n",
              "  <svg xmlns=\"http://www.w3.org/2000/svg\" height=\"24px\"viewBox=\"0 0 24 24\"\n",
              "       width=\"24px\">\n",
              "    <path d=\"M0 0h24v24H0V0z\" fill=\"none\"/>\n",
              "    <path d=\"M18.56 5.44l.94 2.06.94-2.06 2.06-.94-2.06-.94-.94-2.06-.94 2.06-2.06.94zm-11 1L8.5 8.5l.94-2.06 2.06-.94-2.06-.94L8.5 2.5l-.94 2.06-2.06.94zm10 10l.94 2.06.94-2.06 2.06-.94-2.06-.94-.94-2.06-.94 2.06-2.06.94z\"/><path d=\"M17.41 7.96l-1.37-1.37c-.4-.4-.92-.59-1.43-.59-.52 0-1.04.2-1.43.59L10.3 9.45l-7.72 7.72c-.78.78-.78 2.05 0 2.83L4 21.41c.39.39.9.59 1.41.59.51 0 1.02-.2 1.41-.59l7.78-7.78 2.81-2.81c.8-.78.8-2.07 0-2.86zM5.41 20L4 18.59l7.72-7.72 1.47 1.35L5.41 20z\"/>\n",
              "  </svg>\n",
              "      </button>\n",
              "      \n",
              "  <style>\n",
              "    .colab-df-container {\n",
              "      display:flex;\n",
              "      flex-wrap:wrap;\n",
              "      gap: 12px;\n",
              "    }\n",
              "\n",
              "    .colab-df-convert {\n",
              "      background-color: #E8F0FE;\n",
              "      border: none;\n",
              "      border-radius: 50%;\n",
              "      cursor: pointer;\n",
              "      display: none;\n",
              "      fill: #1967D2;\n",
              "      height: 32px;\n",
              "      padding: 0 0 0 0;\n",
              "      width: 32px;\n",
              "    }\n",
              "\n",
              "    .colab-df-convert:hover {\n",
              "      background-color: #E2EBFA;\n",
              "      box-shadow: 0px 1px 2px rgba(60, 64, 67, 0.3), 0px 1px 3px 1px rgba(60, 64, 67, 0.15);\n",
              "      fill: #174EA6;\n",
              "    }\n",
              "\n",
              "    [theme=dark] .colab-df-convert {\n",
              "      background-color: #3B4455;\n",
              "      fill: #D2E3FC;\n",
              "    }\n",
              "\n",
              "    [theme=dark] .colab-df-convert:hover {\n",
              "      background-color: #434B5C;\n",
              "      box-shadow: 0px 1px 3px 1px rgba(0, 0, 0, 0.15);\n",
              "      filter: drop-shadow(0px 1px 2px rgba(0, 0, 0, 0.3));\n",
              "      fill: #FFFFFF;\n",
              "    }\n",
              "  </style>\n",
              "\n",
              "      <script>\n",
              "        const buttonEl =\n",
              "          document.querySelector('#df-3625d098-9c95-4368-99d6-4b56f8a5bcf4 button.colab-df-convert');\n",
              "        buttonEl.style.display =\n",
              "          google.colab.kernel.accessAllowed ? 'block' : 'none';\n",
              "\n",
              "        async function convertToInteractive(key) {\n",
              "          const element = document.querySelector('#df-3625d098-9c95-4368-99d6-4b56f8a5bcf4');\n",
              "          const dataTable =\n",
              "            await google.colab.kernel.invokeFunction('convertToInteractive',\n",
              "                                                     [key], {});\n",
              "          if (!dataTable) return;\n",
              "\n",
              "          const docLinkHtml = 'Like what you see? Visit the ' +\n",
              "            '<a target=\"_blank\" href=https://colab.research.google.com/notebooks/data_table.ipynb>data table notebook</a>'\n",
              "            + ' to learn more about interactive tables.';\n",
              "          element.innerHTML = '';\n",
              "          dataTable['output_type'] = 'display_data';\n",
              "          await google.colab.output.renderOutput(dataTable, element);\n",
              "          const docLink = document.createElement('div');\n",
              "          docLink.innerHTML = docLinkHtml;\n",
              "          element.appendChild(docLink);\n",
              "        }\n",
              "      </script>\n",
              "    </div>\n",
              "  </div>\n",
              "  "
            ]
          },
          "metadata": {},
          "execution_count": 19
        }
      ]
    },
    {
      "cell_type": "markdown",
      "source": [
        "**Get Train Test Split**"
      ],
      "metadata": {
        "id": "CNaalCojLmkG"
      }
    },
    {
      "cell_type": "code",
      "source": [
        "from sklearn.model_selection import train_test_split\n"
      ],
      "metadata": {
        "id": "RkqpB83cLSAD"
      },
      "execution_count": null,
      "outputs": []
    },
    {
      "cell_type": "code",
      "source": [
        "X_train,X_test,y_train,y_test=train_test_split(X,y,test_size=0.3,random_state=92529)\n"
      ],
      "metadata": {
        "id": "OPjbutDTKVUc"
      },
      "execution_count": null,
      "outputs": []
    },
    {
      "cell_type": "code",
      "source": [
        "X_train.shape,X_test.shape,y_train.shape,y_test.shape\n"
      ],
      "metadata": {
        "colab": {
          "base_uri": "https://localhost:8080/"
        },
        "id": "H5uxGuqYKVSA",
        "outputId": "9a84c157-b0f4-4edc-a70d-c8895994eb91"
      },
      "execution_count": null,
      "outputs": [
        {
          "output_type": "execute_result",
          "data": {
            "text/plain": [
              "((438, 5), (188, 5), (438,), (188,))"
            ]
          },
          "metadata": {},
          "execution_count": 23
        }
      ]
    },
    {
      "cell_type": "markdown",
      "source": [
        "# **Get Model Train**"
      ],
      "metadata": {
        "id": "TnB8kmkcLwGR"
      }
    },
    {
      "cell_type": "code",
      "source": [
        "from sklearn.linear_model import LinearRegression\n"
      ],
      "metadata": {
        "id": "ZXvo4GOwLunf"
      },
      "execution_count": null,
      "outputs": []
    },
    {
      "cell_type": "code",
      "source": [
        "lr=LinearRegression()\n"
      ],
      "metadata": {
        "id": "yheRcrmsLuj-"
      },
      "execution_count": null,
      "outputs": []
    },
    {
      "cell_type": "code",
      "source": [
        "lr.fit(X_train,y_train)\n"
      ],
      "metadata": {
        "colab": {
          "base_uri": "https://localhost:8080/"
        },
        "id": "gD9OVNWMLuax",
        "outputId": "b6bc6526-fe0d-4ba0-e255-f58a7a61dfee"
      },
      "execution_count": null,
      "outputs": [
        {
          "output_type": "execute_result",
          "data": {
            "text/plain": [
              "LinearRegression()"
            ]
          },
          "metadata": {},
          "execution_count": 26
        }
      ]
    },
    {
      "cell_type": "markdown",
      "source": [
        "# **Get Model Prediction**"
      ],
      "metadata": {
        "id": "-9Bo7regL3BR"
      }
    },
    {
      "cell_type": "code",
      "source": [
        "y_pred=lr.predict(X_test)\n"
      ],
      "metadata": {
        "id": "Gy6D-_YFLuXZ"
      },
      "execution_count": null,
      "outputs": []
    },
    {
      "cell_type": "code",
      "source": [
        "y_pred.shape\n"
      ],
      "metadata": {
        "colab": {
          "base_uri": "https://localhost:8080/"
        },
        "id": "JTmSnSRDLuVA",
        "outputId": "e2c40418-6b29-4672-cf62-b6a8d6a73fc2"
      },
      "execution_count": null,
      "outputs": [
        {
          "output_type": "execute_result",
          "data": {
            "text/plain": [
              "(188,)"
            ]
          },
          "metadata": {},
          "execution_count": 28
        }
      ]
    },
    {
      "cell_type": "code",
      "source": [
        "y_pred\n"
      ],
      "metadata": {
        "colab": {
          "base_uri": "https://localhost:8080/"
        },
        "id": "8YEslxFaLuSj",
        "outputId": "c484cf5c-f697-4724-f8c4-2458b8fa41de"
      },
      "execution_count": null,
      "outputs": [
        {
          "output_type": "execute_result",
          "data": {
            "text/plain": [
              "array([ 66996.68254193,  29831.52966897,  52267.63116162,  26487.92196184,\n",
              "        35638.36166285,  71519.86172188,   7651.09716536,  71914.52514216,\n",
              "        38077.40989678, 127799.22206672,  28510.54549074,  78861.27689298,\n",
              "       105404.93411136,  58371.48211764,  44685.94953849,  64881.86302778,\n",
              "        60724.41377483, 104596.08586825,  32202.98289996,  45841.2276091 ,\n",
              "        78644.13785719,  49230.04015615,  33118.92420969,  68284.32922085,\n",
              "        37832.37158709,  43284.8508755 ,  20820.97003127,  69910.00438286,\n",
              "        -7181.68149233,  34992.66270944, 127436.93318181, 145168.34269037,\n",
              "        28140.33811331,  22848.96521339,  35079.15268023,  25667.85279766,\n",
              "        20006.0760085 ,  24237.39915129, 105937.71233145,  35313.58477536,\n",
              "       130867.43658896, 140111.81967005, 111008.12598744,  38843.97722489,\n",
              "        46898.46771779,  57024.03701454,  78782.52181046,   -836.31935047,\n",
              "        59672.47424034,  52373.14892599, 102205.8858464 ,  42122.75668927,\n",
              "        46536.04176421,  29340.12883669,  45360.15547305,  70828.12157452,\n",
              "        41074.58805638,  52319.9145461 ,  43056.84837383,  22604.10836258,\n",
              "        21794.87589509,  29803.74960708,  50487.96118119,  69475.93326248,\n",
              "       117571.65856965,  68285.90997571,  45766.70208728,  74364.68302348,\n",
              "        73491.49643751,  78942.80803605, 119516.70350017,  53222.29799333,\n",
              "        62633.59787591,  63851.10224187,  69454.10753435,  60994.48123337,\n",
              "        50370.91823803,  63096.66703564,  56762.72711044, 111299.86309257,\n",
              "        58804.30480928,  36805.08388347,  49433.87562319,  39747.22726243,\n",
              "        95464.01995916,  46003.84216606,  63469.07250508,  61017.27088564,\n",
              "        60922.42659885,  73342.03495691, 112905.22167526,  36961.71722057,\n",
              "        59791.91724728,  48748.59432513,  60901.97156061,  95233.11202126,\n",
              "        53910.94886936,  49243.7613134 ,  23687.991695  ,  49035.73096127,\n",
              "        41848.94136403,  20428.97402173,  54088.09096501,  46100.69752148,\n",
              "        39138.18216467,  53963.81385684,  13736.15951004,  61005.75952556,\n",
              "       101515.2692663 ,  46568.9099287 , 116532.30289336,  89918.25655835,\n",
              "        30507.1262399 ,  54321.85773224,  40557.24023286,  60637.25715797,\n",
              "        42759.18954509, -10379.27851844,  92892.76304374,  38233.09184421,\n",
              "        32339.63399714,  52234.26110764,  67801.56613928,  38406.07178579,\n",
              "        26150.41555255,  59225.4447261 ,  58095.98761437,  53896.29978563,\n",
              "       -11232.9069589 , 192122.29350701,  48262.57098776,  68736.93188453,\n",
              "        -8444.75940049,  48378.01364182,  36332.47805919,  51256.5472657 ,\n",
              "       132129.97892234,  43966.82246329,  46645.33548326,  27698.49819221,\n",
              "       117930.8772409 ,   9922.43529558,  41026.85174616,  85367.2326787 ,\n",
              "        63624.90363573, 116393.91894009,  71689.38206463,  35779.65638291,\n",
              "        23520.26702088,  75273.6227556 ,  32018.95422705,  59108.09330807,\n",
              "        37100.72514948,  38913.85932066, 134263.17260775, 106242.01809984,\n",
              "        26999.66816945,  38129.30387926,  45375.75838558, 117064.04431781,\n",
              "       100095.31019434,  55212.69351458,  86900.24651807,  34637.60011562,\n",
              "        55540.63465082,  67716.65311678,  37336.3952174 ,  69736.15201426,\n",
              "        48750.82187793,  51856.73407907,  57058.63300286,  38700.13768649,\n",
              "        50416.38762044, 132479.96163882,  20100.64990262, 262223.70298482,\n",
              "        24667.41633059,  30680.10618148,  31081.93823775,  33422.45065534,\n",
              "        -2228.46558436,  49084.91352264,  22457.315773  ,  58108.30495046,\n",
              "        51066.55707311,  99375.5257389 , 237407.02203741,  52151.48003035])"
            ]
          },
          "metadata": {},
          "execution_count": 29
        }
      ]
    },
    {
      "cell_type": "markdown",
      "source": [
        "# **Get Model Evaluation**"
      ],
      "metadata": {
        "id": "s_mLy200L-ps"
      }
    },
    {
      "cell_type": "code",
      "source": [
        "from sklearn.metrics import mean_squared_error,mean_absolute_error,r2_score\n"
      ],
      "metadata": {
        "id": "r0cY4R0cLuQD"
      },
      "execution_count": null,
      "outputs": []
    },
    {
      "cell_type": "code",
      "source": [
        "mean_squared_error(y_test,y_pred)\n"
      ],
      "metadata": {
        "colab": {
          "base_uri": "https://localhost:8080/"
        },
        "id": "BYiH9d0DKVPr",
        "outputId": "9c7c74e2-4752-4a77-a743-3fb2f85c88de"
      },
      "execution_count": null,
      "outputs": [
        {
          "output_type": "execute_result",
          "data": {
            "text/plain": [
              "338084218.71452844"
            ]
          },
          "metadata": {},
          "execution_count": 31
        }
      ]
    },
    {
      "cell_type": "code",
      "source": [
        "mean_absolute_error(y_test,y_pred)\n"
      ],
      "metadata": {
        "colab": {
          "base_uri": "https://localhost:8080/"
        },
        "id": "_5GnzqUcKVNR",
        "outputId": "00ac7aa0-5c1e-44d8-c0b0-7891ab562405"
      },
      "execution_count": null,
      "outputs": [
        {
          "output_type": "execute_result",
          "data": {
            "text/plain": [
              "11908.707626563615"
            ]
          },
          "metadata": {},
          "execution_count": 32
        }
      ]
    },
    {
      "cell_type": "code",
      "source": [
        "r2_score(y_test,y_pred)\n"
      ],
      "metadata": {
        "colab": {
          "base_uri": "https://localhost:8080/"
        },
        "id": "zfGzVdvPKVK1",
        "outputId": "38f5888e-efac-49fe-a195-6f44699459ec"
      },
      "execution_count": null,
      "outputs": [
        {
          "output_type": "execute_result",
          "data": {
            "text/plain": [
              "0.8112972672914525"
            ]
          },
          "metadata": {},
          "execution_count": 33
        }
      ]
    },
    {
      "cell_type": "markdown",
      "source": [
        "# **Get Visualization of Actual Vs Predicted Results**"
      ],
      "metadata": {
        "id": "-IeMct0VMLNu"
      }
    },
    {
      "cell_type": "code",
      "source": [
        "import matplotlib.pyplot as plt\n",
        "plt.scatter(y_test,y_pred)\n",
        "plt.xlabel(\"Actual Prices\")\n",
        "plt.ylabel(\"Predicted Prices\")\n",
        "plt.title(\"Actual vs Predicted Prices\")\n",
        "plt.show()"
      ],
      "metadata": {
        "colab": {
          "base_uri": "https://localhost:8080/",
          "height": 295
        },
        "id": "b1l17wi8MIg3",
        "outputId": "ce212d3d-18a0-4ae2-882c-04612ba3757a"
      },
      "execution_count": null,
      "outputs": [
        {
          "output_type": "display_data",
          "data": {
            "text/plain": [
              "<Figure size 432x288 with 1 Axes>"
            ],
            "image/png": "[encoded data removed]"
          },
          "metadata": {
            "needs_background": "light"
          }
        }
      ]
    },
    {
      "cell_type": "markdown",
      "source": [
        "# **Get Future Predictions**"
      ],
      "metadata": {
        "id": "97qHlhYwMQU6"
      }
    },
    {
      "cell_type": "code",
      "source": [
        "df_new=df.sample(1)\n"
      ],
      "metadata": {
        "id": "zXUQe6VuMIdW"
      },
      "execution_count": null,
      "outputs": []
    },
    {
      "cell_type": "code",
      "source": [
        "df_new\n"
      ],
      "metadata": {
        "colab": {
          "base_uri": "https://localhost:8080/",
          "height": 81
        },
        "id": "c2OY0uBcMIa5",
        "outputId": "6b83113d-2dc3-47b5-9662-de984416db6a"
      },
      "execution_count": null,
      "outputs": [
        {
          "output_type": "execute_result",
          "data": {
            "text/plain": [
              "     Brand                 Model  Selling_Price  Year  Seller_Type  Owner  \\\n",
              "479  Honda  Honda CB Hornet 160R          70000  2017            0      0   \n",
              "\n",
              "     KM_Driven  Ex_Showroom_Price  \n",
              "479      35000            87719.0  "
            ],
            "text/html": [
              "\n",
              "  <div id=\"df-13906e2e-d2b8-47e5-af06-69cfc67bd0d5\">\n",
              "    <div class=\"colab-df-container\">\n",
              "      <div>\n",
              "<style scoped>\n",
              "    .dataframe tbody tr th:only-of-type {\n",
              "        vertical-align: middle;\n",
              "    }\n",
              "\n",
              "    .dataframe tbody tr th {\n",
              "        vertical-align: top;\n",
              "    }\n",
              "\n",
              "    .dataframe thead th {\n",
              "        text-align: right;\n",
              "    }\n",
              "</style>\n",
              "<table border=\"1\" class=\"dataframe\">\n",
              "  <thead>\n",
              "    <tr style=\"text-align: right;\">\n",
              "      <th></th>\n",
              "      <th>Brand</th>\n",
              "      <th>Model</th>\n",
              "      <th>Selling_Price</th>\n",
              "      <th>Year</th>\n",
              "      <th>Seller_Type</th>\n",
              "      <th>Owner</th>\n",
              "      <th>KM_Driven</th>\n",
              "      <th>Ex_Showroom_Price</th>\n",
              "    </tr>\n",
              "  </thead>\n",
              "  <tbody>\n",
              "    <tr>\n",
              "      <th>479</th>\n",
              "      <td>Honda</td>\n",
              "      <td>Honda CB Hornet 160R</td>\n",
              "      <td>70000</td>\n",
              "      <td>2017</td>\n",
              "      <td>0</td>\n",
              "      <td>0</td>\n",
              "      <td>35000</td>\n",
              "      <td>87719.0</td>\n",
              "    </tr>\n",
              "  </tbody>\n",
              "</table>\n",
              "</div>\n",
              "      <button class=\"colab-df-convert\" onclick=\"convertToInteractive('df-13906e2e-d2b8-47e5-af06-69cfc67bd0d5')\"\n",
              "              title=\"Convert this dataframe to an interactive table.\"\n",
              "              style=\"display:none;\">\n",
              "        \n",
              "  <svg xmlns=\"http://www.w3.org/2000/svg\" height=\"24px\"viewBox=\"0 0 24 24\"\n",
              "       width=\"24px\">\n",
              "    <path d=\"M0 0h24v24H0V0z\" fill=\"none\"/>\n",
              "    <path d=\"M18.56 5.44l.94 2.06.94-2.06 2.06-.94-2.06-.94-.94-2.06-.94 2.06-2.06.94zm-11 1L8.5 8.5l.94-2.06 2.06-.94-2.06-.94L8.5 2.5l-.94 2.06-2.06.94zm10 10l.94 2.06.94-2.06 2.06-.94-2.06-.94-.94-2.06-.94 2.06-2.06.94z\"/><path d=\"M17.41 7.96l-1.37-1.37c-.4-.4-.92-.59-1.43-.59-.52 0-1.04.2-1.43.59L10.3 9.45l-7.72 7.72c-.78.78-.78 2.05 0 2.83L4 21.41c.39.39.9.59 1.41.59.51 0 1.02-.2 1.41-.59l7.78-7.78 2.81-2.81c.8-.78.8-2.07 0-2.86zM5.41 20L4 18.59l7.72-7.72 1.47 1.35L5.41 20z\"/>\n",
              "  </svg>\n",
              "      </button>\n",
              "      \n",
              "  <style>\n",
              "    .colab-df-container {\n",
              "      display:flex;\n",
              "      flex-wrap:wrap;\n",
              "      gap: 12px;\n",
              "    }\n",
              "\n",
              "    .colab-df-convert {\n",
              "      background-color: #E8F0FE;\n",
              "      border: none;\n",
              "      border-radius: 50%;\n",
              "      cursor: pointer;\n",
              "      display: none;\n",
              "      fill: #1967D2;\n",
              "      height: 32px;\n",
              "      padding: 0 0 0 0;\n",
              "      width: 32px;\n",
              "    }\n",
              "\n",
              "    .colab-df-convert:hover {\n",
              "      background-color: #E2EBFA;\n",
              "      box-shadow: 0px 1px 2px rgba(60, 64, 67, 0.3), 0px 1px 3px 1px rgba(60, 64, 67, 0.15);\n",
              "      fill: #174EA6;\n",
              "    }\n",
              "\n",
              "    [theme=dark] .colab-df-convert {\n",
              "      background-color: #3B4455;\n",
              "      fill: #D2E3FC;\n",
              "    }\n",
              "\n",
              "    [theme=dark] .colab-df-convert:hover {\n",
              "      background-color: #434B5C;\n",
              "      box-shadow: 0px 1px 3px 1px rgba(0, 0, 0, 0.15);\n",
              "      filter: drop-shadow(0px 1px 2px rgba(0, 0, 0, 0.3));\n",
              "      fill: #FFFFFF;\n",
              "    }\n",
              "  </style>\n",
              "\n",
              "      <script>\n",
              "        const buttonEl =\n",
              "          document.querySelector('#df-13906e2e-d2b8-47e5-af06-69cfc67bd0d5 button.colab-df-convert');\n",
              "        buttonEl.style.display =\n",
              "          google.colab.kernel.accessAllowed ? 'block' : 'none';\n",
              "\n",
              "        async function convertToInteractive(key) {\n",
              "          const element = document.querySelector('#df-13906e2e-d2b8-47e5-af06-69cfc67bd0d5');\n",
              "          const dataTable =\n",
              "            await google.colab.kernel.invokeFunction('convertToInteractive',\n",
              "                                                     [key], {});\n",
              "          if (!dataTable) return;\n",
              "\n",
              "          const docLinkHtml = 'Like what you see? Visit the ' +\n",
              "            '<a target=\"_blank\" href=https://colab.research.google.com/notebooks/data_table.ipynb>data table notebook</a>'\n",
              "            + ' to learn more about interactive tables.';\n",
              "          element.innerHTML = '';\n",
              "          dataTable['output_type'] = 'display_data';\n",
              "          await google.colab.output.renderOutput(dataTable, element);\n",
              "          const docLink = document.createElement('div');\n",
              "          docLink.innerHTML = docLinkHtml;\n",
              "          element.appendChild(docLink);\n",
              "        }\n",
              "      </script>\n",
              "    </div>\n",
              "  </div>\n",
              "  "
            ]
          },
          "metadata": {},
          "execution_count": 36
        }
      ]
    },
    {
      "cell_type": "code",
      "source": [
        "df_new.shape\n"
      ],
      "metadata": {
        "colab": {
          "base_uri": "https://localhost:8080/"
        },
        "id": "OJ4fLE-dMIYs",
        "outputId": "e4e362d9-120f-4ce8-cfd3-954d46d9a1ab"
      },
      "execution_count": null,
      "outputs": [
        {
          "output_type": "execute_result",
          "data": {
            "text/plain": [
              "(1, 8)"
            ]
          },
          "metadata": {},
          "execution_count": 37
        }
      ]
    },
    {
      "cell_type": "code",
      "source": [
        "X_new=df_new.drop(['Brand','Model','Selling_Price'],axis=1)\n"
      ],
      "metadata": {
        "id": "NFtuS6_cMIWX"
      },
      "execution_count": null,
      "outputs": []
    },
    {
      "cell_type": "code",
      "source": [
        "y_pred_new=lr.predict(X_new)\n"
      ],
      "metadata": {
        "id": "2MK0Ln2jMISE"
      },
      "execution_count": null,
      "outputs": []
    },
    {
      "cell_type": "code",
      "source": [
        "y_pred_new\n"
      ],
      "metadata": {
        "colab": {
          "base_uri": "https://localhost:8080/"
        },
        "id": "AJjqH991KVIa",
        "outputId": "a5c18d78-990d-4da8-b439-894e38f01cb6"
      },
      "execution_count": null,
      "outputs": [
        {
          "output_type": "execute_result",
          "data": {
            "text/plain": [
              "array([69910.00438286])"
            ]
          },
          "metadata": {},
          "execution_count": 40
        }
      ]
    }
  ]
}